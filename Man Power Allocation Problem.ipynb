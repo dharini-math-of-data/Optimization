{
 "cells": [
  {
   "cell_type": "code",
   "execution_count": 1,
   "metadata": {},
   "outputs": [],
   "source": [
    "import pulp"
   ]
  },
  {
   "cell_type": "code",
   "execution_count": 2,
   "metadata": {},
   "outputs": [],
   "source": [
    "model = pulp.LpProblem(\"Profit maximising problem\", pulp.LpMaximize)"
   ]
  },
  {
   "cell_type": "code",
   "execution_count": 3,
   "metadata": {},
   "outputs": [],
   "source": [
    "d1 = pulp.LpVariable('Detergent 1', lowBound=0, cat='Integer')\n",
    "d2 = pulp.LpVariable('Detergent 2', lowBound=0, cat='Integer')"
   ]
  },
  {
   "cell_type": "code",
   "execution_count": 4,
   "metadata": {},
   "outputs": [],
   "source": [
    "# Objective function\n",
    "model += 500 * d1 + 400 * d2, \"Profit\"\n",
    "\n",
    "# Constraints\n",
    "model += 0.07 * d1 + 0.1 * d2 <= 430, \"Dept 1\"\n",
    "model += 0.05 * d1 + 0.084 * d2 <= 400, \"Dept 2\"\n",
    "model += 0.1 * d1 + 0.067 * d2 <= 500, \"Dept 3\"\n",
    "model += 0.01 * d1 + 0.025 * d2 <= 135, \"Dept 4\"\n",
    "model += 0.12 * d1 + 0.184 * d2 <= 570, \"Dept 1/2\"\n",
    "model += 0.11 * d1 + 0.092 * d2 <= 300, \"Dept 3/4\""
   ]
  },
  {
   "cell_type": "code",
   "execution_count": 5,
   "metadata": {},
   "outputs": [
    {
     "data": {
      "text/plain": [
       "'Optimal'"
      ]
     },
     "execution_count": 5,
     "metadata": {},
     "output_type": "execute_result"
    }
   ],
   "source": [
    "# Solve our problem\n",
    "model.solve()\n",
    "pulp.LpStatus[model.status]"
   ]
  },
  {
   "cell_type": "code",
   "execution_count": 13,
   "metadata": {},
   "outputs": [
    {
     "name": "stdout",
     "output_type": "stream",
     "text": [
      "Production of Detergent 1 = 2727.0\n",
      "Production of Detergent 2 = 0.0\n",
      "Total Profit = 1363500.0\n"
     ]
    }
   ],
   "source": [
    "# Print our decision variable values\n",
    "print(\"Production of Detergent 1 = \" + str(d1.varValue))\n",
    "print(\"Production of Detergent 2 = \" + str(d2.varValue))\n",
    "print(\"Total Profit = \" + str(pulp.value(model.objective)))"
   ]
  },
  {
   "cell_type": "code",
   "execution_count": 16,
   "metadata": {},
   "outputs": [
    {
     "name": "stdout",
     "output_type": "stream",
     "text": [
      "Man hours required in Department 1 = 190.9\n",
      "Man hours required in Department 2 = 136.3\n",
      "Man hours required in Department 3 = 272.7\n",
      "Man hours required in Department 4 = 27.3\n"
     ]
    }
   ],
   "source": [
    "#Man hours allocation\n",
    "print(\"Man hours required in Department 1 = \" + str(round(0.07 * d1.varValue + 0.1 * d2.varValue,1)))\n",
    "print(\"Man hours required in Department 2 = \" + str(round(0.05 * d1.varValue + 0.084 * d2.varValue,1)))\n",
    "print(\"Man hours required in Department 3 = \" + str(round(0.1 * d1.varValue + 0.067 * d2.varValue,1)))\n",
    "print(\"Man hours required in Department 4 = \" + str(round(0.01 * d1.varValue + 0.025 * d2.varValue,1)))"
   ]
  },
  {
   "cell_type": "code",
   "execution_count": null,
   "metadata": {},
   "outputs": [],
   "source": []
  }
 ],
 "metadata": {
  "kernelspec": {
   "display_name": "Python 3",
   "language": "python",
   "name": "python3"
  },
  "language_info": {
   "codemirror_mode": {
    "name": "ipython",
    "version": 3
   },
   "file_extension": ".py",
   "mimetype": "text/x-python",
   "name": "python",
   "nbconvert_exporter": "python",
   "pygments_lexer": "ipython3",
   "version": "3.6.4"
  }
 },
 "nbformat": 4,
 "nbformat_minor": 2
}
