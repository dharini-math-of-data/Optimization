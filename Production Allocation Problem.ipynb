{
 "cells": [
  {
   "cell_type": "markdown",
   "metadata": {},
   "source": [
    "# PRODUCTION ALLOCATION PROBLEM\n",
    "__DHARINI SUDARSAN \\[245997\\]__"
   ]
  },
  {
   "cell_type": "markdown",
   "metadata": {},
   "source": [
    "## Introduction\n",
    "Problem 16 in [opt_LPlab2_2021](http://prac.im.pwr.wroc.pl/~wiecek/opt_LPlab2_2021.pdf).\n",
    "\n",
    "A production house has 10 cells and produces 5 products. Each cell can produce only certain products. Given the product requirement and production rate of each product, we aim to determine minimum number of cells to be opened.  \n",
    "This problem is solved using puLP library in python and numpy library is used for defining variables."
   ]
  },
  {
   "cell_type": "code",
   "execution_count": 1,
   "metadata": {},
   "outputs": [],
   "source": [
    "from pulp import *\n",
    "import numpy as np"
   ]
  },
  {
   "cell_type": "markdown",
   "metadata": {},
   "source": [
    "## Problem Definition\n",
    "### Parameters    \n",
    "The following constant parameters are defined with the given information in the problem.  \n",
    "$W_{p\\ c}$ denotes whether cell $c$ is able to  produce(1) or not produce(0) product $p$  \n",
    "$D_{p}$ denotes demand requirement for product $p$  \n",
    "$T_{p}$ denotes production rate per hour product $p$  \n",
    "$n_{p}$ denotes number of products  \n",
    "$n_{c}$ denotes number of cells  "
   ]
  },
  {
   "cell_type": "code",
   "execution_count": 2,
   "metadata": {},
   "outputs": [],
   "source": [
    "W = np.array([\n",
    "              [1,1,0,0,1,1,0,1,0,1],\n",
    "              [1,0,1,0,1,0,1,0,1,1],\n",
    "              [1,1,0,1,0,0,1,1,1,0],\n",
    "              [0,1,0,0,1,1,1,0,1,0],\n",
    "              [0,1,0,0,1,1,0,1,1,0]\n",
    "              ])\n",
    "D = np.array([11,17,16,15,12])\n",
    "T = np.array([9,11,10,8,6])\n",
    "n_cells = 10\n",
    "n_products = 5"
   ]
  },
  {
   "cell_type": "markdown",
   "metadata": {},
   "source": [
    "### Decision Variables\n",
    "#### Cell operation variables\n",
    "The cell operation variable is an indicator variable that denotes whether cell is open/close.\n",
    "$Z_{c} \\ =\\ \\begin{cases}\n",
    "1 & \\mathrm{if,} \\ cell\\ c\\ is\\ open\\\\\n",
    "0 & \\mathrm{if,} \\ cell\\ c\\ is\\ closed\\\\\n",
    "\\end{cases}$  "
   ]
  },
  {
   "cell_type": "code",
   "execution_count": 3,
   "metadata": {},
   "outputs": [
    {
     "name": "stdout",
     "output_type": "stream",
     "text": [
      "Cell operation variable array: \n",
      "[Z_1 Z_2 Z_3 Z_4 Z_5 Z_6 Z_7 Z_8 Z_9 Z_10]\n"
     ]
    }
   ],
   "source": [
    "Z_variable_names = [str(c) for c in range(1, n_cells+1)]\n",
    "Z = LpVariable.matrix('Z', Z_variable_names, cat='Binary')\n",
    "cell_operation = np.array(Z).reshape(n_cells)\n",
    "print(\"Cell operation variable array: \")\n",
    "print(cell_operation)"
   ]
  },
  {
   "cell_type": "markdown",
   "metadata": {},
   "source": [
    "#### Allocation variables\n",
    "The allocation variables indicate which product is allocated to which cell.  \n",
    "$X_{p,\\ c} \\ =\\ \\begin{cases}\n",
    "1 & \\mathrm{if,} \\ product\\ p\\ is\\ allocated\\ to\\ be\\ produced\\ in\\ cell\\ c\\\\\n",
    "0 & \\mathrm{if,} \\ product\\ p\\ is\\ not\\ allocated\\ to\\ be\\ produced\\ in\\ cell\\ c\\\\\n",
    "\\end{cases}$  "
   ]
  },
  {
   "cell_type": "code",
   "execution_count": 4,
   "metadata": {},
   "outputs": [
    {
     "name": "stdout",
     "output_type": "stream",
     "text": [
      "Allocation variable Matrix: \n",
      "[[X_1_1 X_1_2 X_1_3 X_1_4 X_1_5 X_1_6 X_1_7 X_1_8 X_1_9 X_1_10]\n",
      " [X_2_1 X_2_2 X_2_3 X_2_4 X_2_5 X_2_6 X_2_7 X_2_8 X_2_9 X_2_10]\n",
      " [X_3_1 X_3_2 X_3_3 X_3_4 X_3_5 X_3_6 X_3_7 X_3_8 X_3_9 X_3_10]\n",
      " [X_4_1 X_4_2 X_4_3 X_4_4 X_4_5 X_4_6 X_4_7 X_4_8 X_4_9 X_4_10]\n",
      " [X_5_1 X_5_2 X_5_3 X_5_4 X_5_5 X_5_6 X_5_7 X_5_8 X_5_9 X_5_10]]\n"
     ]
    }
   ],
   "source": [
    "X_variable_names = [str(p)+'_'+str(c) for p in range(1, n_products+1) for c in range(1, n_cells+1)]\n",
    "X = LpVariable.matrix('X', X_variable_names, cat='Binary')\n",
    "allocation = np.array(X).reshape(n_products,n_cells)\n",
    "print(\"Allocation variable Matrix: \")\n",
    "print(allocation)"
   ]
  },
  {
   "cell_type": "markdown",
   "metadata": {},
   "source": [
    "### Objective\n",
    "The objective is to minimize the number of cells that are operating (opened) in the next hour which can be written as:  \n",
    "    __*Minimize*__ $\\sum ^{n_{c}}_{1} Z_{c}$ "
   ]
  },
  {
   "cell_type": "code",
   "execution_count": 5,
   "metadata": {},
   "outputs": [
    {
     "name": "stderr",
     "output_type": "stream",
     "text": [
      "C:\\ProgramData\\Anaconda3\\lib\\site-packages\\pulp\\pulp.py:1198: UserWarning: Spaces are not permitted in the name. Converted to '_'\n",
      "  warnings.warn(\"Spaces are not permitted in the name. Converted to '_'\")\n"
     ]
    }
   ],
   "source": [
    "# --- problem definition\n",
    "lp_prob = LpProblem('Production Allocation Problem', LpMinimize)\n",
    "# --- Objective\n",
    "lp_prob += lpSum(cell_operation)"
   ]
  },
  {
   "cell_type": "markdown",
   "metadata": {},
   "source": [
    "### Constraints\n",
    "#### Production Requirement constraints\n",
    "The production of product p across all cells should be atleast the required amount.   \n",
    "ie; Total amount of product p produced across all cells * production rate of product p >= requirement for product p  \n",
    "$\\sum ^{n_{c}}_{c\\ =\\ 1} X_{p,\\ c} \\ .\\ T_{p} \\ \\leqslant \\ D_{p} \\ for\\ each\\ p\\ \\in \\{1,\\ n_{p}\\}$"
   ]
  },
  {
   "cell_type": "code",
   "execution_count": 6,
   "metadata": {},
   "outputs": [
    {
     "name": "stdout",
     "output_type": "stream",
     "text": [
      "Production Requirement constraints:\n",
      "Product 1: \n",
      "9*X_1_1 + 9*X_1_10 + 9*X_1_2 + 9*X_1_3 + 9*X_1_4 + 9*X_1_5 + 9*X_1_6 + 9*X_1_7 + 9*X_1_8 + 9*X_1_9 >= 11\n",
      "Product 2: \n",
      "11*X_2_1 + 11*X_2_10 + 11*X_2_2 + 11*X_2_3 + 11*X_2_4 + 11*X_2_5 + 11*X_2_6 + 11*X_2_7 + 11*X_2_8 + 11*X_2_9 >= 17\n",
      "Product 3: \n",
      "10*X_3_1 + 10*X_3_10 + 10*X_3_2 + 10*X_3_3 + 10*X_3_4 + 10*X_3_5 + 10*X_3_6 + 10*X_3_7 + 10*X_3_8 + 10*X_3_9 >= 16\n",
      "Product 4: \n",
      "8*X_4_1 + 8*X_4_10 + 8*X_4_2 + 8*X_4_3 + 8*X_4_4 + 8*X_4_5 + 8*X_4_6 + 8*X_4_7 + 8*X_4_8 + 8*X_4_9 >= 15\n",
      "Product 5: \n",
      "6*X_5_1 + 6*X_5_10 + 6*X_5_2 + 6*X_5_3 + 6*X_5_4 + 6*X_5_5 + 6*X_5_6 + 6*X_5_7 + 6*X_5_8 + 6*X_5_9 >= 12\n"
     ]
    }
   ],
   "source": [
    "print(\"Production Requirement constraints:\")\n",
    "for p in range(n_products):\n",
    "    print(\"Product \"+str(p+1)+\": \")\n",
    "    print(lpSum(allocation[p][c] for c in range(n_cells))*T[p] >= D[p])\n",
    "    lp_prob += lpSum(allocation[p][c] for c in range(n_cells))*T[p] >= D[p], \\\n",
    "                \"Production Requirement Constraint for product\" + str(p+1)"
   ]
  },
  {
   "cell_type": "markdown",
   "metadata": {},
   "source": [
    "#### Producing capability constraints\n",
    "These constraints indicate whether or not cell c can produce product p. We do this by restricting value of $X_{p,\\ c}$ to less than or equal to $W_{p, \\ c}$. ie;  \n",
    "$X_{p,\\ c} \\ \\ \\leqslant \\ W_{p,\\ c} \\ \\ for\\ each\\ p\\ \\in \\{1,\\ n_{p}\\} \\ ,\\ c\\ \\in \\{1,\\ n_{c}\\}$"
   ]
  },
  {
   "cell_type": "code",
   "execution_count": 7,
   "metadata": {},
   "outputs": [
    {
     "name": "stdout",
     "output_type": "stream",
     "text": [
      "Producing capability constraints [X_p_c]:\n",
      "X_1_1 <= 1\n",
      "X_2_1 <= 1\n",
      "X_3_1 <= 1\n",
      "X_4_1 <= 0\n",
      "X_5_1 <= 0\n",
      "X_1_2 <= 1\n",
      "X_2_2 <= 0\n",
      "X_3_2 <= 1\n",
      "X_4_2 <= 1\n",
      "X_5_2 <= 1\n",
      "X_1_3 <= 0\n",
      "X_2_3 <= 1\n",
      "X_3_3 <= 0\n",
      "X_4_3 <= 0\n",
      "X_5_3 <= 0\n",
      "X_1_4 <= 0\n",
      "X_2_4 <= 0\n",
      "X_3_4 <= 1\n",
      "X_4_4 <= 0\n",
      "X_5_4 <= 0\n",
      "X_1_5 <= 1\n",
      "X_2_5 <= 1\n",
      "X_3_5 <= 0\n",
      "X_4_5 <= 1\n",
      "X_5_5 <= 1\n",
      "X_1_6 <= 1\n",
      "X_2_6 <= 0\n",
      "X_3_6 <= 0\n",
      "X_4_6 <= 1\n",
      "X_5_6 <= 1\n",
      "X_1_7 <= 0\n",
      "X_2_7 <= 1\n",
      "X_3_7 <= 1\n",
      "X_4_7 <= 1\n",
      "X_5_7 <= 0\n",
      "X_1_8 <= 1\n",
      "X_2_8 <= 0\n",
      "X_3_8 <= 1\n",
      "X_4_8 <= 0\n",
      "X_5_8 <= 1\n",
      "X_1_9 <= 0\n",
      "X_2_9 <= 1\n",
      "X_3_9 <= 1\n",
      "X_4_9 <= 1\n",
      "X_5_9 <= 1\n",
      "X_1_10 <= 1\n",
      "X_2_10 <= 1\n",
      "X_3_10 <= 0\n",
      "X_4_10 <= 0\n",
      "X_5_10 <= 0\n"
     ]
    }
   ],
   "source": [
    "print(\"Producing capability constraints [X_p_c]:\")\n",
    "for c in range(n_cells):\n",
    "    for p in range(n_products):\n",
    "        print(allocation[p][c] <= W[p][c])\n",
    "        lp_prob += allocation[p][c] <= W[p][c], \"Producing capability of cell\" + str(c) + \" for product\" + str(p)"
   ]
  },
  {
   "cell_type": "markdown",
   "metadata": {},
   "source": [
    "#### Cell operation constraint\n",
    "We require cell c to be open if atleast one product is being produced in it. We can define this as:\n",
    "Z_{c} \\ =\\ max( X_{p,\\ c} \\ across\\ all\\ p) \\.  Since puLP does not handle any other constraints apart from inequalities. We define maximum as a set of inequalities for each cell operation variable as follows:   \n",
    "$\n",
    "\\begin{array}{ c }\n",
    "Z_{c} \\ \\geqslant \\ X_{1,\\ c}\\\\\n",
    "\\vdots \\\\\n",
    "Z_{c} \\ \\geqslant \\ X_{n_{p} ,\\ c}\n",
    "\\end{array} \\\\\n",
    " for\\ each\\ p\\ \\in \\{1,\\ n_{p}\\}$"
   ]
  },
  {
   "cell_type": "code",
   "execution_count": 8,
   "metadata": {},
   "outputs": [
    {
     "name": "stdout",
     "output_type": "stream",
     "text": [
      "Cell operation for cell 1 :\n",
      "-X_1_1 + Z_1 >= 0\n",
      "-X_2_1 + Z_1 >= 0\n",
      "-X_3_1 + Z_1 >= 0\n",
      "-X_4_1 + Z_1 >= 0\n",
      "-X_5_1 + Z_1 >= 0\n",
      "Cell operation for cell 2 :\n",
      "-X_1_2 + Z_2 >= 0\n",
      "-X_2_2 + Z_2 >= 0\n",
      "-X_3_2 + Z_2 >= 0\n",
      "-X_4_2 + Z_2 >= 0\n",
      "-X_5_2 + Z_2 >= 0\n",
      "Cell operation for cell 3 :\n",
      "-X_1_3 + Z_3 >= 0\n",
      "-X_2_3 + Z_3 >= 0\n",
      "-X_3_3 + Z_3 >= 0\n",
      "-X_4_3 + Z_3 >= 0\n",
      "-X_5_3 + Z_3 >= 0\n",
      "Cell operation for cell 4 :\n",
      "-X_1_4 + Z_4 >= 0\n",
      "-X_2_4 + Z_4 >= 0\n",
      "-X_3_4 + Z_4 >= 0\n",
      "-X_4_4 + Z_4 >= 0\n",
      "-X_5_4 + Z_4 >= 0\n",
      "Cell operation for cell 5 :\n",
      "-X_1_5 + Z_5 >= 0\n",
      "-X_2_5 + Z_5 >= 0\n",
      "-X_3_5 + Z_5 >= 0\n",
      "-X_4_5 + Z_5 >= 0\n",
      "-X_5_5 + Z_5 >= 0\n",
      "Cell operation for cell 6 :\n",
      "-X_1_6 + Z_6 >= 0\n",
      "-X_2_6 + Z_6 >= 0\n",
      "-X_3_6 + Z_6 >= 0\n",
      "-X_4_6 + Z_6 >= 0\n",
      "-X_5_6 + Z_6 >= 0\n",
      "Cell operation for cell 7 :\n",
      "-X_1_7 + Z_7 >= 0\n",
      "-X_2_7 + Z_7 >= 0\n",
      "-X_3_7 + Z_7 >= 0\n",
      "-X_4_7 + Z_7 >= 0\n",
      "-X_5_7 + Z_7 >= 0\n",
      "Cell operation for cell 8 :\n",
      "-X_1_8 + Z_8 >= 0\n",
      "-X_2_8 + Z_8 >= 0\n",
      "-X_3_8 + Z_8 >= 0\n",
      "-X_4_8 + Z_8 >= 0\n",
      "-X_5_8 + Z_8 >= 0\n",
      "Cell operation for cell 9 :\n",
      "-X_1_9 + Z_9 >= 0\n",
      "-X_2_9 + Z_9 >= 0\n",
      "-X_3_9 + Z_9 >= 0\n",
      "-X_4_9 + Z_9 >= 0\n",
      "-X_5_9 + Z_9 >= 0\n",
      "Cell operation for cell 10 :\n",
      "-X_1_10 + Z_10 >= 0\n",
      "-X_2_10 + Z_10 >= 0\n",
      "-X_3_10 + Z_10 >= 0\n",
      "-X_4_10 + Z_10 >= 0\n",
      "-X_5_10 + Z_10 >= 0\n"
     ]
    }
   ],
   "source": [
    "for c in range(n_cells):\n",
    "    print(\"Cell operation for cell \"+str(c+1)+\" :\")\n",
    "    for p in range(n_products):\n",
    "        print(cell_operation[c] >= allocation[p][c])\n",
    "        lp_prob += cell_operation[c] >= allocation[p][c], \\\n",
    "        \"Cell operation constraint for cell\" + str(c) + \" based on product\" +str(p)"
   ]
  },
  {
   "cell_type": "markdown",
   "metadata": {},
   "source": [
    "## Solution"
   ]
  },
  {
   "cell_type": "code",
   "execution_count": 9,
   "metadata": {},
   "outputs": [
    {
     "name": "stdout",
     "output_type": "stream",
     "text": [
      "Status: Optimal\n",
      "Minimum number of cells to be opened: 3\n",
      "\n",
      "\n",
      "Cells to be opened: \n",
      "[2, 5, 9]\n",
      "Cell 2 produces products:\n",
      "[1, 3, 4, 5]\n",
      "Cell 5 produces products:\n",
      "[1, 2, 5]\n",
      "Cell 9 produces products:\n",
      "[2, 3, 4, 5]\n",
      "\n",
      "\n",
      "Product 1 is produced in Cells:\n",
      "[2, 5]\n",
      "Product 2 is produced in Cells:\n",
      "[5, 9]\n",
      "Product 3 is produced in Cells:\n",
      "[2, 9]\n",
      "Product 4 is produced in Cells:\n",
      "[2, 9]\n",
      "Product 5 is produced in Cells:\n",
      "[2, 5, 9]\n"
     ]
    }
   ],
   "source": [
    "# --- Solving\n",
    "status = lp_prob.solve()\n",
    "print(\"Status:\", LpStatus[lp_prob.status])\n",
    "# --- Solution\n",
    "if status == 1:\n",
    "    print(\"Minimum number of cells to be opened: \" + str(lp_prob.objective.value()))\n",
    "    print('\\n')\n",
    "    \n",
    "    #--- cell wise\n",
    "    open_cells = [int(v.name.split('_')[1]) for v in lp_prob.variables() if 'Z' in v.name and v.value() == 1]\n",
    "    print(\"Cells to be opened: \")\n",
    "    print(open_cells)\n",
    "    for c in range(1, n_cells+1):\n",
    "        cell_vars = [v.value() for v in lp_prob.variables() if 'X' in v.name and v.name.split('_')[2] == str(c)]\n",
    "        if(sum(cell_vars) != 0):\n",
    "            print(\"Cell \"+str(c)+\" produces products:\")\n",
    "            print([index+1 for index,value in enumerate(cell_vars) if value == 1])\n",
    "    print('\\n')\n",
    "\n",
    "    # --- product wise\n",
    "    for p in range(1, n_products+1):\n",
    "        product_vars = [v.value() for v in lp_prob.variables() if 'X' in v.name and v.name.split('_')[1] == str(p)]\n",
    "        print(\"Product \"+str(p)+\" is produced in Cells:\")\n",
    "        print([index for index,value in enumerate(product_vars) if value == 1])   "
   ]
  },
  {
   "cell_type": "markdown",
   "metadata": {},
   "source": [
    "## Conclusion Notes  \n",
    "Since all three cells opened has the ability to produce product 5, solver has provided this solution. Technically, product 5 needs to be produced only in any two of these cells to meet the given constraints, hence **there are many optimal solutions** here. If there were additional constraints such as maximum amount products that can be excess or cost limit of production given production cost per each cell, we would we able to obtain a more specific solution."
   ]
  },
  {
   "cell_type": "markdown",
   "metadata": {},
   "source": [
    "## ALTERNATIVE METHOD"
   ]
  },
  {
   "cell_type": "markdown",
   "metadata": {},
   "source": [
    "Defining capacity of each cell as $U_{c}$ based on information given in the problem. We can alternatively define decision variables as follows:\n",
    "#### Cell operation variables\n",
    "The cell operation variable is an indicator variable that denotes whether cell is open/close. (Same as earlier)\n",
    "$Z_{c} \\ =\\ \\begin{cases}\n",
    "1 & \\mathrm{if,} \\ cell\\ c\\ is\\ open\\\\\n",
    "0 & \\mathrm{if,} \\ cell\\ c\\ is\\ closed\\\\\n",
    "\\end{cases}$   \n",
    "$for\\ each\\ c\\ \\in \\{1,\\ n_{c}\\}$ \n",
    "#### Cell capacity usage variables \n",
    "The cell capacity usage variables denote proportion of capacity of cell $c$ used by product $p$.  \n",
    "$Y_{p,\\ c} \\in [0, 1]\\ for\\ each\\ p\\ \\in \\{1,\\ n_{p}\\} \\ ,\\ c\\ \\in \\{1,\\ n_{c}\\}$  \n",
    "Note: $Y_{p, \\ c}$ can only take values either $\\frac{1}{U_{c}}$  (if product $p$ is allocated to cell $c$) or $0$"
   ]
  },
  {
   "cell_type": "code",
   "execution_count": 10,
   "metadata": {},
   "outputs": [
    {
     "name": "stdout",
     "output_type": "stream",
     "text": [
      "Cell operation variable array: \n",
      "[Z_1 Z_2 Z_3 Z_4 Z_5 Z_6 Z_7 Z_8 Z_9 Z_10]\n",
      "Capacity usage variable Matrix: \n",
      "[[Y_1_1 Y_1_2 Y_1_3 Y_1_4 Y_1_5 Y_1_6 Y_1_7 Y_1_8 Y_1_9 Y_1_10]\n",
      " [Y_2_1 Y_2_2 Y_2_3 Y_2_4 Y_2_5 Y_2_6 Y_2_7 Y_2_8 Y_2_9 Y_2_10]\n",
      " [Y_3_1 Y_3_2 Y_3_3 Y_3_4 Y_3_5 Y_3_6 Y_3_7 Y_3_8 Y_3_9 Y_3_10]\n",
      " [Y_4_1 Y_4_2 Y_4_3 Y_4_4 Y_4_5 Y_4_6 Y_4_7 Y_4_8 Y_4_9 Y_4_10]\n",
      " [Y_5_1 Y_5_2 Y_5_3 Y_5_4 Y_5_5 Y_5_6 Y_5_7 Y_5_8 Y_5_9 Y_5_10]]\n"
     ]
    }
   ],
   "source": [
    "Z_variable_names = [str(c) for c in range(1, n_cells+1)]\n",
    "Z = LpVariable.matrix('Z', Z_variable_names, cat='Binary')\n",
    "cell_operation = np.array(Z).reshape(n_cells)\n",
    "print(\"Cell operation variable array: \")\n",
    "print(cell_operation)\n",
    "Y_variable_names = [str(p)+'_'+str(c) for p in range(1, n_products+1) for c in range(1, n_cells+1)]\n",
    "Y = LpVariable.matrix('Y', Y_variable_names, lowBound=0, upBound=1, cat='Continuous')\n",
    "capacity_usage = np.array(Y).reshape(n_products,n_cells)\n",
    "print(\"Capacity usage variable Matrix: \")\n",
    "print(capacity_usage)"
   ]
  },
  {
   "cell_type": "markdown",
   "metadata": {},
   "source": [
    "The parameters now include additionally the above mentioned $U_{c}$."
   ]
  },
  {
   "cell_type": "code",
   "execution_count": 11,
   "metadata": {},
   "outputs": [
    {
     "name": "stdout",
     "output_type": "stream",
     "text": [
      "[3 4 1 1 4 3 3 3 4 2]\n"
     ]
    }
   ],
   "source": [
    "U = W.sum(axis=0)\n",
    "print(U)"
   ]
  },
  {
   "cell_type": "markdown",
   "metadata": {},
   "source": [
    "The objective remains the same."
   ]
  },
  {
   "cell_type": "code",
   "execution_count": 12,
   "metadata": {},
   "outputs": [],
   "source": [
    "# Re-declaring problem\n",
    "# --- problem definition\n",
    "lp_prob_alt = LpProblem('Production Allocation Problem', LpMinimize)\n",
    "# --- Objective\n",
    "lp_prob_alt += lpSum(cell_operation)"
   ]
  },
  {
   "cell_type": "markdown",
   "metadata": {},
   "source": [
    "### Constraints\n",
    "#### Production Requirement constraints\n",
    "The production of product p across all cells should be atleast the required amount.   \n",
    "ie; Total amount of product p produced across all cells * production rate of product p >= requirement for product p  \n",
    "$\\sum ^{n_{c}}_{c\\ =\\ 1} X_{p,\\ c} \\ .\\ T_{p} \\ \\geqslant \\ D_{p} \\ for\\ each\\ p\\ \\in \\{1,\\ n_{p}\\}$"
   ]
  },
  {
   "cell_type": "code",
   "execution_count": 13,
   "metadata": {},
   "outputs": [
    {
     "name": "stdout",
     "output_type": "stream",
     "text": [
      "Production Requirement constraints:\n",
      "Product 1: \n",
      "9*Y_1_1 + 9*Y_1_10 + 9*Y_1_2 + 9*Y_1_3 + 9*Y_1_4 + 9*Y_1_5 + 9*Y_1_6 + 9*Y_1_7 + 9*Y_1_8 + 9*Y_1_9 >= 11\n",
      "Product 2: \n",
      "11*Y_2_1 + 11*Y_2_10 + 11*Y_2_2 + 11*Y_2_3 + 11*Y_2_4 + 11*Y_2_5 + 11*Y_2_6 + 11*Y_2_7 + 11*Y_2_8 + 11*Y_2_9 >= 17\n",
      "Product 3: \n",
      "10*Y_3_1 + 10*Y_3_10 + 10*Y_3_2 + 10*Y_3_3 + 10*Y_3_4 + 10*Y_3_5 + 10*Y_3_6 + 10*Y_3_7 + 10*Y_3_8 + 10*Y_3_9 >= 16\n",
      "Product 4: \n",
      "8*Y_4_1 + 8*Y_4_10 + 8*Y_4_2 + 8*Y_4_3 + 8*Y_4_4 + 8*Y_4_5 + 8*Y_4_6 + 8*Y_4_7 + 8*Y_4_8 + 8*Y_4_9 >= 15\n",
      "Product 5: \n",
      "6*Y_5_1 + 6*Y_5_10 + 6*Y_5_2 + 6*Y_5_3 + 6*Y_5_4 + 6*Y_5_5 + 6*Y_5_6 + 6*Y_5_7 + 6*Y_5_8 + 6*Y_5_9 >= 12\n"
     ]
    }
   ],
   "source": [
    "print(\"Production Requirement constraints:\")\n",
    "for p in range(n_products):\n",
    "    print(\"Product \"+str(p+1)+\": \")\n",
    "    print(lpSum(capacity_usage[p][c] for c in range(n_cells))*T[p] >= D[p])\n",
    "    lp_prob_alt += lpSum(capacity_usage[p][c] for c in range(n_cells))*T[p] >= D[p], \\\n",
    "                \"Production Requirement Constraint for product\" + str(p+1)"
   ]
  },
  {
   "cell_type": "markdown",
   "metadata": {},
   "source": [
    "#### Cell capacity limit constraints\n",
    "Production in each cell c cannot exceed it's limit $U_{c}$. That is total amount of capacity used by all products made in cell c <= cell capacity.  \n",
    "$U_{c}.\\sum ^{n_{p}}_{p\\ =\\ 1} X_{p,\\ c} \\ \\leqslant 1  \\ for\\ each\\ c\\ \\in \\{1,\\ n_{c}\\}$"
   ]
  },
  {
   "cell_type": "code",
   "execution_count": 14,
   "metadata": {},
   "outputs": [
    {
     "data": {
      "text/plain": [
       "'\\nfor c in range(n_cells):\\n    print(\"Cell capacity limit for cell \"+str(c+1)+\" :\")\\n    print(lpSum(capacity_usage[p][c] for p in range(n_products))*U[c] <= 1)\\n    lp_prob_alt += lpSum(capacity_usage[p][c] for p in range(n_products))*U[c] <= 1,     \"Cell capacity limit constraint for cell\" + str(c) + \" based on product\" +str(p)\\n'"
      ]
     },
     "execution_count": 14,
     "metadata": {},
     "output_type": "execute_result"
    }
   ],
   "source": [
    "\"\"\"\n",
    "for c in range(n_cells):\n",
    "    print(\"Cell capacity limit for cell \"+str(c+1)+\" :\")\n",
    "    print(lpSum(capacity_usage[p][c] for p in range(n_products))*U[c] <= 1)\n",
    "    lp_prob_alt += lpSum(capacity_usage[p][c] for p in range(n_products))*U[c] <= 1, \\\n",
    "    \"Cell capacity limit constraint for cell\" + str(c) + \" based on product\" +str(p)\n",
    "\"\"\""
   ]
  },
  {
   "cell_type": "markdown",
   "metadata": {},
   "source": [
    "#### Producing capability constraints\n",
    "These constraints indicate whether or not cell c can produce product p. We do this by restricting value of $X_{p,\\ c}$ to 0 if $W_{p, \\ c} = 0$.ie;  \n",
    "$X_{p,\\ c} \\ \\ = 0$ if $\\ W_{p,\\ c} = 0$     \n",
    "$for\\ each\\ p\\ \\in \\{1,\\ n_{p}\\} \\ ,\\ c\\ \\in \\{1,\\ n_{c}\\}$"
   ]
  },
  {
   "cell_type": "code",
   "execution_count": 15,
   "metadata": {},
   "outputs": [
    {
     "name": "stdout",
     "output_type": "stream",
     "text": [
      "Producing capability constraints [X_p_c]:\n",
      "Y_1_1 <= 0.3333333333333333\n",
      "Y_2_1 <= 0.3333333333333333\n",
      "Y_3_1 <= 0.3333333333333333\n",
      "Y_4_1 = 0\n",
      "Y_5_1 = 0\n",
      "Y_1_2 <= 0.25\n",
      "Y_2_2 = 0\n",
      "Y_3_2 <= 0.25\n",
      "Y_4_2 <= 0.25\n",
      "Y_5_2 <= 0.25\n",
      "Y_1_3 = 0\n",
      "Y_2_3 <= 1.0\n",
      "Y_3_3 = 0\n",
      "Y_4_3 = 0\n",
      "Y_5_3 = 0\n",
      "Y_1_4 = 0\n",
      "Y_2_4 = 0\n",
      "Y_3_4 <= 1.0\n",
      "Y_4_4 = 0\n",
      "Y_5_4 = 0\n",
      "Y_1_5 <= 0.25\n",
      "Y_2_5 <= 0.25\n",
      "Y_3_5 = 0\n",
      "Y_4_5 <= 0.25\n",
      "Y_5_5 <= 0.25\n",
      "Y_1_6 <= 0.3333333333333333\n",
      "Y_2_6 = 0\n",
      "Y_3_6 = 0\n",
      "Y_4_6 <= 0.3333333333333333\n",
      "Y_5_6 <= 0.3333333333333333\n",
      "Y_1_7 = 0\n",
      "Y_2_7 <= 0.3333333333333333\n",
      "Y_3_7 <= 0.3333333333333333\n",
      "Y_4_7 <= 0.3333333333333333\n",
      "Y_5_7 = 0\n",
      "Y_1_8 <= 0.3333333333333333\n",
      "Y_2_8 = 0\n",
      "Y_3_8 <= 0.3333333333333333\n",
      "Y_4_8 = 0\n",
      "Y_5_8 <= 0.3333333333333333\n",
      "Y_1_9 = 0\n",
      "Y_2_9 <= 0.25\n",
      "Y_3_9 <= 0.25\n",
      "Y_4_9 <= 0.25\n",
      "Y_5_9 <= 0.25\n",
      "Y_1_10 <= 0.5\n",
      "Y_2_10 <= 0.5\n",
      "Y_3_10 = 0\n",
      "Y_4_10 = 0\n",
      "Y_5_10 = 0\n"
     ]
    }
   ],
   "source": [
    "print(\"Producing capability constraints [X_p_c]:\")\n",
    "for c in range(n_cells):\n",
    "    for p in range(n_products):\n",
    "        if W[p][c] == 0:\n",
    "            print(capacity_usage[p][c] == 0)\n",
    "            lp_prob_alt += capacity_usage[p][c] == 0, \"Cell\" + str(c) + \" cannot produce product\" + str(p)\n",
    "        else:\n",
    "            print(capacity_usage[p][c] <= 1/U[c])\n",
    "            lp_prob_alt += capacity_usage[p][c] <= 1/U[c], \"Cell\" + str(c) + \"can allocate 1/\" + str(U[c]) + \"capacity to product \" + str(p)"
   ]
  },
  {
   "cell_type": "markdown",
   "metadata": {},
   "source": [
    "## Solution"
   ]
  },
  {
   "cell_type": "code",
   "execution_count": 16,
   "metadata": {},
   "outputs": [],
   "source": [
    "# --- Solving\n",
    "status = lp_prob_alt.solve()"
   ]
  },
  {
   "cell_type": "code",
   "execution_count": 17,
   "metadata": {},
   "outputs": [
    {
     "name": "stdout",
     "output_type": "stream",
     "text": [
      "Status: Infeasible\n"
     ]
    }
   ],
   "source": [
    "print(\"Status:\", LpStatus[lp_prob_alt.status])"
   ]
  },
  {
   "cell_type": "code",
   "execution_count": 19,
   "metadata": {},
   "outputs": [],
   "source": [
    "# --- Solution\n",
    "if status == 1:\n",
    "    print('Optimal solution obtained')\n",
    "    print(\"Minimum number of cells to be opened: \" + str(lp_prob.objective.value()))\n",
    "    print('\\n')\n",
    "    \n",
    "    #--- cell wise\n",
    "    open_cells = [int(v.name.split('_')[1]) for v in lp_prob.variables() if 'Z' in v.name and v.value() == 1]\n",
    "    print(\"Cells to be opened: \")\n",
    "    print(open_cells)\n",
    "    for c in range(1, n_cells+1):\n",
    "        cell_vars = [v.value() for v in lp_prob.variables() if 'X' in v.name and v.name.split('_')[2] == str(c)]\n",
    "        if(sum(cell_vars) != 0):\n",
    "            print(\"Cell \"+str(c)+\" produces products:\")\n",
    "            print([index+1 for index,value in enumerate(cell_vars) if value == 1])\n",
    "    print('\\n')\n",
    "\n",
    "    # --- product wise\n",
    "    for p in range(1, n_products+1):\n",
    "        product_vars = [v.value() for v in lp_prob.variables() if 'X' in v.name and v.name.split('_')[1] == str(p)]\n",
    "        print(\"Product \"+str(p)+\" is produced in Cells:\")\n",
    "        print([index for index,value in enumerate(product_vars) if value == 1])   "
   ]
  }
 ],
 "metadata": {
  "kernelspec": {
   "display_name": "Python 3",
   "language": "python",
   "name": "python3"
  },
  "language_info": {
   "codemirror_mode": {
    "name": "ipython",
    "version": 3
   },
   "file_extension": ".py",
   "mimetype": "text/x-python",
   "name": "python",
   "nbconvert_exporter": "python",
   "pygments_lexer": "ipython3",
   "version": "3.8.5"
  }
 },
 "nbformat": 4,
 "nbformat_minor": 4
}
